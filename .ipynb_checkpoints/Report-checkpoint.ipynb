{
 "cells": [
  {
   "cell_type": "markdown",
   "id": "9b7f5b4b-45d4-45cf-85d7-d012e066d1d0",
   "metadata": {},
   "source": [
    "# Do Large Historical Events have an Impact on Seattle’s Crime Rate?"
   ]
  },
  {
   "cell_type": "markdown",
   "id": "b885888b-73b7-4a81-ab94-7cd77b955ba9",
   "metadata": {},
   "source": [
    "Ella Foley\n",
    "\n",
    "HCDE 410 A7\n",
    "\n",
    "University of Washington, Spring 2021"
   ]
  },
  {
   "cell_type": "markdown",
   "id": "19af5137-2b16-4646-9bbb-731f411db9cb",
   "metadata": {},
   "source": [
    "### Table of Contents"
   ]
  },
  {
   "cell_type": "markdown",
   "id": "3134c949-f1b0-4ec2-a726-28e8355b3926",
   "metadata": {},
   "source": [
    "Introduction\n",
    "\n",
    "Background\n",
    "\n",
    "Research Question\n",
    "\n",
    "Methodology\n",
    "\n",
    "Findings\n",
    "\n",
    "Discussion\n",
    "\n",
    "Conclusion"
   ]
  },
  {
   "cell_type": "markdown",
   "id": "7a9ca30e-76dc-4491-af0f-258d57c32f43",
   "metadata": {},
   "source": [
    "### Introduction"
   ]
  },
  {
   "cell_type": "markdown",
   "id": "96686cbd-1c77-42de-989d-fcd80319c0d5",
   "metadata": {},
   "source": [
    "I'm planning to do this analysis because I’m curious to see if there’s an increase/decrease (or no change) and in what types of crime based on large events that happen.\n",
    "\n",
    "It would be interesting to see if there’s any unexpected crime statistics correlating with historical events. This could be useful to know so that if similar events happen again in the future (i.e. “history repeating itself”), we can know what we can expect to see for crime and thus hopefully prevent it better. \n",
    "\n",
    "I hope to learn about the impact that historical events have on crime rates and the type of crimes committed, specifically in the Seattle area. I will look at these specific events: Trump's presidential election, COVID-19, and George Floyd’s death."
   ]
  },
  {
   "cell_type": "markdown",
   "id": "3adf0abc-aecf-410a-bb41-2d8e01e9bb6a",
   "metadata": {},
   "source": [
    "#### Data"
   ]
  },
  {
   "cell_type": "markdown",
   "id": "b22f6a63-cfa7-4716-8ddc-6d03ef2e83c3",
   "metadata": {},
   "source": [
    "Find the dataset [here](https://data.seattle.gov/Public-Safety/SPD-Crime-Data-2008-Present/tazs-3rd5).\n",
    "\n",
    "This dataset is under a Public Domain license.\n",
    "\n",
    "I chose this dataset because I’m particularly interested in crime in Seattle since I’ve lived around this area my whole life and will be moving there this Fall. Additionally, this is a large dataset (with about 900k rows) that comes from the Seattle Police Department, meaning that my analysis is be more likely to be accurate."
   ]
  },
  {
   "cell_type": "markdown",
   "id": "487af91b-3190-4e07-a4b6-3a219193a1c4",
   "metadata": {},
   "source": [
    "#### Dataset Ethical Considerations"
   ]
  },
  {
   "cell_type": "markdown",
   "id": "ed8af4c8-d2b3-408d-91a0-f4ecf87d428f",
   "metadata": {},
   "source": [
    "Something to keep in mind when using this dataset and doing this type of analysis is where the data comes from. Only finalized reports are included, so crimes that don’t make it through the police department would be absent and unaccounted for. In addition, many people (particularly people of color) do not trust the police and may not make police reports, even after a crime has occurred. For this reason, the data will have bias to it and will not be a completely accurate representation of crime in Seattle. If people don’t acknowledge this, it could lead to poor decisions based on this data, such as only benefiting those who made police reports. It’s also worth noting that a lot of information is included in this dataset, so it would likely not be too difficult for someone to figure out who was involved in the crimes."
   ]
  },
  {
   "cell_type": "markdown",
   "id": "ab315095-9e6d-4887-af83-2b109175feeb",
   "metadata": {},
   "source": [
    "#### Unknowns"
   ]
  },
  {
   "cell_type": "markdown",
   "id": "cc3ff311-921d-483d-a2b2-8a87ab910123",
   "metadata": {},
   "source": [
    "I’ll be getting my second dose of the vaccine in a couple weeks, which may push back some of my work. I’m also not very comfortable with Python and haven’t used it for statistical analysis before, so I expect to run into a lot of problems related to that."
   ]
  },
  {
   "cell_type": "markdown",
   "id": "becfee18-fda4-4ea0-9ffd-ec5ad7f43eab",
   "metadata": {},
   "source": [
    "### Background"
   ]
  },
  {
   "cell_type": "markdown",
   "id": "7c539b45-080f-49b4-8d9b-dad2cb6ec245",
   "metadata": {},
   "source": [
    "The online newspaper SeattlePI reported that there was a 48.57% increase in homicides in Seattle from 2019 to 2020 and that this increase appeared in other US cities during that same time period as well, showing that crime can fluctuate dramatically. The [article](https://www.google.com/amp/s/www.seattlepi.com/local/seattlenews/amp/2020-crime-Seattle-highest-homicide-rate-15864266.php) also mentioned that bodies that were just discovered that year that threw off the number, which is why it’s important to differentiate between the date a crime actually occurred and the date it was reported (as I will be doing in my research). It was additionally noted that property crimes increased, but that a possible reason for this could be the increase in Seattle’s population. This is something that I will need to mention in my analysis as well.\n",
    "\n",
    "According to this [study](https://www.bjs.gov/content/pub/pdf/ics.pdf) from the Bureau of Justice, there is little relationship between the seasons and crime for most types of crime. However, they still suggested taking into account seasonal fluctuation for crime for the sake of quality data analysis. This relationship can vary based on the location of the crime (which is why I will be focusing solely on Seattle) and how crime is reported by the police (which is why I will be using one dataset for all the crime data in hopes of mitigating this variance).\n",
    "\n",
    "A [research paper](https://poseidon01.ssrn.com/delivery.php?ID=724017066103122088120029027099089022026080077013030029112113018026093025106080082073011056033056027005107125092126030067066001046072056061077089122127084103124099089028058087083108115094089030083084094015102018064027072098104111085009014111088099097093&EXT=pdf&INDEX=TRUE) titled “The Effect of President Trump’s Election on Hate Crimes” investigated the impact that Trump’s election had on hate crime specifically and did find a statistically significant increase, proving that major events can indeed impact crime rates. However, this only researched hate crimes in particular and not overall crime rates, which would be interesting to discover if there’s also a possible impact. "
   ]
  },
  {
   "cell_type": "markdown",
   "id": "014765ed-f631-4906-9391-a0796a25a051",
   "metadata": {},
   "source": [
    "### Research Questions"
   ]
  },
  {
   "cell_type": "markdown",
   "id": "59fc8fde-d7e4-4698-9482-f0d5b6167b6e",
   "metadata": {},
   "source": [
    "Have major historical events (such as Trump’s 2016 presidential election, the COVID-19 pandemic, and the death of George Floyd) affected the amount of crime in Seattle?"
   ]
  },
  {
   "cell_type": "markdown",
   "id": "aa96b245-dc04-447b-a5f4-0d36bc4c4e14",
   "metadata": {},
   "source": [
    "### Methodology"
   ]
  },
  {
   "cell_type": "markdown",
   "id": "edf47319-099e-4c65-b232-9027f6061217",
   "metadata": {},
   "source": [
    "I will be using descriptive statistics (mainly crime counts) for my analysis. Data visualizations in the form of line graphs will also be included. \n",
    "\n",
    "I’ll begin by cleaning the data by removing all crime reports from before the year 2008 since the report dates for this dataset does not begin until that year (earlier years are included for crime that was committed before 2008 but was not reported until that year; however, including these crimes would throw off the analysis). Crimes from the year 2021 will be included with the exception of May 2021 since that month will not be finished by the time I begin analyzing the data. Additionally, since crimes that fell under multiple categories for the type of crime were inputted multiple times into this dataset, I will be merging these data entries together (by assuming that entries with the same date, time, and location are for the same crime). \n",
    "\n",
    "After this data cleaning, I will find the daily average number of crimes committed for each month present in my dataset. The average was chosen as this will provide a detailed analysis with little chance of outliers impacting the results since I will be using data from months. I will do this by adding up all of the crime counts for each month and then dividing that number by the number of days in that month. In the case that this number is quite small, I will multiply it by the average number of days in a month to make it easier to understand. I will do this for each month in my dataset. I plan to also account for leap years in order to increase the accuracy of my analysis.\n",
    "\n",
    "To reduce possible outside factors that could skew my results, I plan to make a line graph for each year (2008-2021) with the daily average number of crimes committed for each month of that year plotted. By comparing these graphs, I can see if there is any seasonal variation that may throw off my results (e.g. there are more/less crimes committed in winter than summer). From there, I plan to create a seasonal index and use that in combination with the daily average number of crimes committed for each month to determine if the crime rate after a particularly important event was actually impacted or if it was the result of outside factors (ideally, I would account for other factors as well, but that’s out of the scope for this project).\n",
    "\n",
    "This information will be put on a line graph to visualize. The daily average number of crimes committed for each month will also be included on each of my 3 line graphs for large events (Trump’s election, George Floyd’s death, and the COVID-19 pandemic). For example, for the pandemic graph, the months included will be from March 2020 (since this is when the pandemic started) up until the end of the dataset in April 2021 (as the pandemic was still drastically affecting people at this time). This will allow me to see how crime was potentially impacted by these 3 events. "
   ]
  },
  {
   "cell_type": "markdown",
   "id": "343eb91d-5203-4565-8e77-c6978928d65b",
   "metadata": {},
   "source": [
    "### Findings"
   ]
  },
  {
   "cell_type": "markdown",
   "id": "0237c36b-408e-407e-9803-10a7f7739699",
   "metadata": {},
   "source": [
    "To run this code, let’s first import what we'll eventually need for the data analysis."
   ]
  },
  {
   "cell_type": "code",
   "execution_count": 282,
   "id": "a2f5da70-8eb8-4a5e-8a3c-c1fb8cee45f8",
   "metadata": {},
   "outputs": [],
   "source": [
    "import pandas as pd\n",
    "import datetime\n",
    "import numpy as np\n",
    "import matplotlib.pyplot as plt\n",
    "from datetime import datetime\n",
    "from statsmodels.tsa.seasonal import seasonal_decompose\n",
    "#The following imports are for the excel export used, but not necessary.\n",
    "#import xlwt\n",
    "#import xlsxwriter"
   ]
  },
  {
   "cell_type": "markdown",
   "id": "a3330097-24ae-4d38-b700-dc6c8c346755",
   "metadata": {},
   "source": [
    "Now we can import the CSV and clean it up a little by getting rid of uneccessary columns, converting the data to datetime, sorting the data (it should be sorted already, but this was done to confirm), and merging any repeated data entries together."
   ]
  },
  {
   "cell_type": "code",
   "execution_count": 284,
   "id": "3770d8d9-42b1-4407-bed8-7f57dd82a847",
   "metadata": {},
   "outputs": [
    {
     "ename": "ValueError",
     "evalue": "time data '2/5/20 10:10' does not match format '%m/%d/%Y %H:%M' (match)",
     "output_type": "error",
     "traceback": [
      "\u001b[0;31m---------------------------------------------------------------------------\u001b[0m",
      "\u001b[0;31mTypeError\u001b[0m                                 Traceback (most recent call last)",
      "\u001b[0;32m/opt/conda/lib/python3.8/site-packages/pandas/core/tools/datetimes.py\u001b[0m in \u001b[0;36m_convert_listlike_datetimes\u001b[0;34m(arg, format, name, tz, unit, errors, infer_datetime_format, dayfirst, yearfirst, exact)\u001b[0m\n\u001b[1;32m    455\u001b[0m             \u001b[0;32mtry\u001b[0m\u001b[0;34m:\u001b[0m\u001b[0;34m\u001b[0m\u001b[0;34m\u001b[0m\u001b[0m\n\u001b[0;32m--> 456\u001b[0;31m                 \u001b[0mvalues\u001b[0m\u001b[0;34m,\u001b[0m \u001b[0mtz\u001b[0m \u001b[0;34m=\u001b[0m \u001b[0mconversion\u001b[0m\u001b[0;34m.\u001b[0m\u001b[0mdatetime_to_datetime64\u001b[0m\u001b[0;34m(\u001b[0m\u001b[0marg\u001b[0m\u001b[0;34m)\u001b[0m\u001b[0;34m\u001b[0m\u001b[0;34m\u001b[0m\u001b[0m\n\u001b[0m\u001b[1;32m    457\u001b[0m                 \u001b[0mdta\u001b[0m \u001b[0;34m=\u001b[0m \u001b[0mDatetimeArray\u001b[0m\u001b[0;34m(\u001b[0m\u001b[0mvalues\u001b[0m\u001b[0;34m,\u001b[0m \u001b[0mdtype\u001b[0m\u001b[0;34m=\u001b[0m\u001b[0mtz_to_dtype\u001b[0m\u001b[0;34m(\u001b[0m\u001b[0mtz\u001b[0m\u001b[0;34m)\u001b[0m\u001b[0;34m)\u001b[0m\u001b[0;34m\u001b[0m\u001b[0;34m\u001b[0m\u001b[0m\n",
      "\u001b[0;32mpandas/_libs/tslibs/conversion.pyx\u001b[0m in \u001b[0;36mpandas._libs.tslibs.conversion.datetime_to_datetime64\u001b[0;34m()\u001b[0m\n",
      "\u001b[0;31mTypeError\u001b[0m: Unrecognized value type: <class 'str'>",
      "\nDuring handling of the above exception, another exception occurred:\n",
      "\u001b[0;31mValueError\u001b[0m                                Traceback (most recent call last)",
      "\u001b[0;32m<ipython-input-284-461c69d784fa>\u001b[0m in \u001b[0;36m<module>\u001b[0;34m\u001b[0m\n\u001b[1;32m      7\u001b[0m \u001b[0;31m#Converts date to datetime.\u001b[0m\u001b[0;34m\u001b[0m\u001b[0;34m\u001b[0m\u001b[0;34m\u001b[0m\u001b[0m\n\u001b[1;32m      8\u001b[0m \u001b[0;31m#df['Offense Start DateTime'] = pd.to_datetime(df['Offense Start DateTime'], format='%m/%d/%Y %H:%M:%S %p')\u001b[0m\u001b[0;34m\u001b[0m\u001b[0;34m\u001b[0m\u001b[0;34m\u001b[0m\u001b[0m\n\u001b[0;32m----> 9\u001b[0;31m \u001b[0mdf\u001b[0m\u001b[0;34m[\u001b[0m\u001b[0;34m'Offense Start DateTime'\u001b[0m\u001b[0;34m]\u001b[0m \u001b[0;34m=\u001b[0m \u001b[0mpd\u001b[0m\u001b[0;34m.\u001b[0m\u001b[0mto_datetime\u001b[0m\u001b[0;34m(\u001b[0m\u001b[0mdf\u001b[0m\u001b[0;34m[\u001b[0m\u001b[0;34m'Offense Start DateTime'\u001b[0m\u001b[0;34m]\u001b[0m\u001b[0;34m,\u001b[0m \u001b[0mformat\u001b[0m\u001b[0;34m=\u001b[0m\u001b[0;34m'%m/%d/%Y %H:%M'\u001b[0m\u001b[0;34m)\u001b[0m\u001b[0;34m\u001b[0m\u001b[0;34m\u001b[0m\u001b[0m\n\u001b[0m\u001b[1;32m     10\u001b[0m \u001b[0;34m\u001b[0m\u001b[0m\n\u001b[1;32m     11\u001b[0m \u001b[0;31m#Sorts data as a precaution.\u001b[0m\u001b[0;34m\u001b[0m\u001b[0;34m\u001b[0m\u001b[0;34m\u001b[0m\u001b[0m\n",
      "\u001b[0;32m/opt/conda/lib/python3.8/site-packages/pandas/core/tools/datetimes.py\u001b[0m in \u001b[0;36mto_datetime\u001b[0;34m(arg, errors, dayfirst, yearfirst, utc, format, exact, unit, infer_datetime_format, origin, cache)\u001b[0m\n\u001b[1;32m    803\u001b[0m             \u001b[0mresult\u001b[0m \u001b[0;34m=\u001b[0m \u001b[0marg\u001b[0m\u001b[0;34m.\u001b[0m\u001b[0mmap\u001b[0m\u001b[0;34m(\u001b[0m\u001b[0mcache_array\u001b[0m\u001b[0;34m)\u001b[0m\u001b[0;34m\u001b[0m\u001b[0;34m\u001b[0m\u001b[0m\n\u001b[1;32m    804\u001b[0m         \u001b[0;32melse\u001b[0m\u001b[0;34m:\u001b[0m\u001b[0;34m\u001b[0m\u001b[0;34m\u001b[0m\u001b[0m\n\u001b[0;32m--> 805\u001b[0;31m             \u001b[0mvalues\u001b[0m \u001b[0;34m=\u001b[0m \u001b[0mconvert_listlike\u001b[0m\u001b[0;34m(\u001b[0m\u001b[0marg\u001b[0m\u001b[0;34m.\u001b[0m\u001b[0m_values\u001b[0m\u001b[0;34m,\u001b[0m \u001b[0mformat\u001b[0m\u001b[0;34m)\u001b[0m\u001b[0;34m\u001b[0m\u001b[0;34m\u001b[0m\u001b[0m\n\u001b[0m\u001b[1;32m    806\u001b[0m             \u001b[0mresult\u001b[0m \u001b[0;34m=\u001b[0m \u001b[0marg\u001b[0m\u001b[0;34m.\u001b[0m\u001b[0m_constructor\u001b[0m\u001b[0;34m(\u001b[0m\u001b[0mvalues\u001b[0m\u001b[0;34m,\u001b[0m \u001b[0mindex\u001b[0m\u001b[0;34m=\u001b[0m\u001b[0marg\u001b[0m\u001b[0;34m.\u001b[0m\u001b[0mindex\u001b[0m\u001b[0;34m,\u001b[0m \u001b[0mname\u001b[0m\u001b[0;34m=\u001b[0m\u001b[0marg\u001b[0m\u001b[0;34m.\u001b[0m\u001b[0mname\u001b[0m\u001b[0;34m)\u001b[0m\u001b[0;34m\u001b[0m\u001b[0;34m\u001b[0m\u001b[0m\n\u001b[1;32m    807\u001b[0m     \u001b[0;32melif\u001b[0m \u001b[0misinstance\u001b[0m\u001b[0;34m(\u001b[0m\u001b[0marg\u001b[0m\u001b[0;34m,\u001b[0m \u001b[0;34m(\u001b[0m\u001b[0mABCDataFrame\u001b[0m\u001b[0;34m,\u001b[0m \u001b[0mabc\u001b[0m\u001b[0;34m.\u001b[0m\u001b[0mMutableMapping\u001b[0m\u001b[0;34m)\u001b[0m\u001b[0;34m)\u001b[0m\u001b[0;34m:\u001b[0m\u001b[0;34m\u001b[0m\u001b[0;34m\u001b[0m\u001b[0m\n",
      "\u001b[0;32m/opt/conda/lib/python3.8/site-packages/pandas/core/tools/datetimes.py\u001b[0m in \u001b[0;36m_convert_listlike_datetimes\u001b[0;34m(arg, format, name, tz, unit, errors, infer_datetime_format, dayfirst, yearfirst, exact)\u001b[0m\n\u001b[1;32m    458\u001b[0m                 \u001b[0;32mreturn\u001b[0m \u001b[0mDatetimeIndex\u001b[0m\u001b[0;34m.\u001b[0m\u001b[0m_simple_new\u001b[0m\u001b[0;34m(\u001b[0m\u001b[0mdta\u001b[0m\u001b[0;34m,\u001b[0m \u001b[0mname\u001b[0m\u001b[0;34m=\u001b[0m\u001b[0mname\u001b[0m\u001b[0;34m)\u001b[0m\u001b[0;34m\u001b[0m\u001b[0;34m\u001b[0m\u001b[0m\n\u001b[1;32m    459\u001b[0m             \u001b[0;32mexcept\u001b[0m \u001b[0;34m(\u001b[0m\u001b[0mValueError\u001b[0m\u001b[0;34m,\u001b[0m \u001b[0mTypeError\u001b[0m\u001b[0;34m)\u001b[0m\u001b[0;34m:\u001b[0m\u001b[0;34m\u001b[0m\u001b[0;34m\u001b[0m\u001b[0m\n\u001b[0;32m--> 460\u001b[0;31m                 \u001b[0;32mraise\u001b[0m \u001b[0me\u001b[0m\u001b[0;34m\u001b[0m\u001b[0;34m\u001b[0m\u001b[0m\n\u001b[0m\u001b[1;32m    461\u001b[0m \u001b[0;34m\u001b[0m\u001b[0m\n\u001b[1;32m    462\u001b[0m     \u001b[0;32mif\u001b[0m \u001b[0mresult\u001b[0m \u001b[0;32mis\u001b[0m \u001b[0;32mNone\u001b[0m\u001b[0;34m:\u001b[0m\u001b[0;34m\u001b[0m\u001b[0;34m\u001b[0m\u001b[0m\n",
      "\u001b[0;32m/opt/conda/lib/python3.8/site-packages/pandas/core/tools/datetimes.py\u001b[0m in \u001b[0;36m_convert_listlike_datetimes\u001b[0;34m(arg, format, name, tz, unit, errors, infer_datetime_format, dayfirst, yearfirst, exact)\u001b[0m\n\u001b[1;32m    421\u001b[0m             \u001b[0;32mif\u001b[0m \u001b[0mresult\u001b[0m \u001b[0;32mis\u001b[0m \u001b[0;32mNone\u001b[0m\u001b[0;34m:\u001b[0m\u001b[0;34m\u001b[0m\u001b[0;34m\u001b[0m\u001b[0m\n\u001b[1;32m    422\u001b[0m                 \u001b[0;32mtry\u001b[0m\u001b[0;34m:\u001b[0m\u001b[0;34m\u001b[0m\u001b[0;34m\u001b[0m\u001b[0m\n\u001b[0;32m--> 423\u001b[0;31m                     result, timezones = array_strptime(\n\u001b[0m\u001b[1;32m    424\u001b[0m                         \u001b[0marg\u001b[0m\u001b[0;34m,\u001b[0m \u001b[0mformat\u001b[0m\u001b[0;34m,\u001b[0m \u001b[0mexact\u001b[0m\u001b[0;34m=\u001b[0m\u001b[0mexact\u001b[0m\u001b[0;34m,\u001b[0m \u001b[0merrors\u001b[0m\u001b[0;34m=\u001b[0m\u001b[0merrors\u001b[0m\u001b[0;34m\u001b[0m\u001b[0;34m\u001b[0m\u001b[0m\n\u001b[1;32m    425\u001b[0m                     )\n",
      "\u001b[0;32mpandas/_libs/tslibs/strptime.pyx\u001b[0m in \u001b[0;36mpandas._libs.tslibs.strptime.array_strptime\u001b[0;34m()\u001b[0m\n",
      "\u001b[0;31mValueError\u001b[0m: time data '2/5/20 10:10' does not match format '%m/%d/%Y %H:%M' (match)"
     ]
    }
   ],
   "source": [
    "#Imports csv.\n",
    "df = pd.read_csv (r\"./SPD_Crime_Data__2008-Present.csv\")\n",
    "\n",
    "#Chooses only the necessary columns for this data analysis.\n",
    "df = df[['Report Number', 'Offense Start DateTime']]\n",
    "\n",
    "#Converts date to datetime.\n",
    "df['Offense Start DateTime'] = pd.to_datetime(df['Offense Start DateTime'], format='%m/%d/%Y %H:%M:%S %p')\n",
    "\n",
    "#Sorts data as a precaution.\n",
    "df.sort_values('Offense Start DateTime', inplace=True)\n",
    "\n",
    "#Merges repeated data entires together based on report number and using the first offense start datetime (if there are multiple start dates present).\n",
    "unique_df = df.groupby(['Report Number']).agg({'Offense Start DateTime': np.min})\n",
    "unique_df['Year-Month Sortable'] = unique_df['Offense Start DateTime'].dt.strftime(\"%Y-%m\")"
   ]
  },
  {
   "cell_type": "markdown",
   "id": "1b26ccb8-d521-4d9c-ba9c-8cf31d84bb41",
   "metadata": {},
   "source": [
    "We can check to make sure this worked by adding a print statement for unique_df."
   ]
  },
  {
   "cell_type": "code",
   "execution_count": null,
   "id": "09b59109-bded-40fd-a454-b348de420259",
   "metadata": {},
   "outputs": [],
   "source": [
    "print(unique_df)"
   ]
  },
  {
   "cell_type": "markdown",
   "id": "39a6ab8c-1abd-4c96-a5e7-8e875dc3a4d8",
   "metadata": {},
   "source": [
    "Looks good! Now we can get started on the actual analysis part by first finding out the average number of crimes committed for each month in our dataset."
   ]
  },
  {
   "cell_type": "code",
   "execution_count": null,
   "id": "09ca1197-43e1-4b5b-acf5-1b288f46d4bb",
   "metadata": {},
   "outputs": [],
   "source": [
    "#Finding the total number of crimes per month.\n",
    "month_df = unique_df.groupby([unique_df['Year-Month Sortable']]).agg({'Year-Month Sortable':'count'}).rename(columns={'Year-Month Sortable':'Offenses'}).reset_index()\n",
    "\n",
    "#Adding fields that will be used later.\n",
    "month_df['Year-Month DateTime'] = pd.to_datetime(month_df['Year-Month Sortable'], format='%Y-%m')\n",
    "month_df['Year-Month Friendly'] = month_df['Year-Month DateTime'].dt.strftime(\"%b %Y\")\n",
    "month_df['Month'] = month_df['Year-Month DateTime'].dt.strftime(\"%b\")\n",
    "\n",
    "#Finds the daily average crime reports and takes into account months with a different number of days (and leap years).\n",
    "month_df['Days In Month'] = month_df['Year-Month DateTime'].dt.daysinmonth\n",
    "month_df['Offenses Daily'] = month_df['Offenses'] / month_df['Days In Month']"
   ]
  },
  {
   "cell_type": "markdown",
   "id": "d2481e8e-ed71-47fd-9956-01771d88f605",
   "metadata": {},
   "source": [
    "We'll filter out any reports that are outside of our time frame for this analysis (anything before 2008 or after April 2021)."
   ]
  },
  {
   "cell_type": "code",
   "execution_count": null,
   "id": "bb620b2e-7c9b-4a65-b167-613ed6531166",
   "metadata": {},
   "outputs": [],
   "source": [
    "#Filters data to remove extraneous results outside of the analysis time period.\n",
    "filtered_df = month_df.loc[(month_df['Year-Month DateTime'] >= '2008-01-01') & (month_df['Year-Month DateTime'] < '2021-05-01')]\n",
    "filtered_df.set_index('Year-Month DateTime')"
   ]
  },
  {
   "cell_type": "markdown",
   "id": "7e8ffc65-3e90-42cb-893e-ef3e2ae3d082",
   "metadata": {},
   "source": [
    "Now that we've cleaned and organized the data, we can start creating the visualizations! Let's begin by creating a line graph displaying the average monthly crime rate during Trump's presidency."
   ]
  },
  {
   "cell_type": "code",
   "execution_count": null,
   "id": "7f7469ae-22f1-4eff-9b6f-48788445e67d",
   "metadata": {},
   "outputs": [],
   "source": [
    "#Shows a monthly analysis for November 2016 to November 2020 (Trump's presidency time period).\n",
    "plot2 = normalized_df.loc[(normalized_df['Year-Month DateTime'] >= '2016-11-01') & (normalized_df['Year-Month DateTime'] < '2020-11-01')]\n",
    "plt.plot(plot2['Year-Month Friendly'], plot2['Offenses Daily_y'], color='red', marker='o')\n",
    "plt.title('Average Seattle Crimes Committed per Day Over Trump\\'s Presidency', fontsize=14)\n",
    "plt.xticks(rotation=45)\n",
    "plt.xticks(np.arange(0,len(plot2),3))\n",
    "plt.ylabel('Average Crimes per Day', fontsize=14)\n",
    "plt.grid(True)\n",
    "plt.subplots_adjust(bottom=0.18)\n",
    "plt.show()"
   ]
  },
  {
   "cell_type": "markdown",
   "id": "4507a6a2-3684-4608-86a8-47376bfeee09",
   "metadata": {},
   "source": [
    "Interesting! There doesn't seem to be an increase in crime right after the election as might be expected (although this might change if we were to look at specific types of crime like hate crime). Let's see how this graph compares to one during the pandemic."
   ]
  },
  {
   "cell_type": "code",
   "execution_count": null,
   "id": "3f190320-f8c2-4de7-b74f-f879bd760f58",
   "metadata": {},
   "outputs": [],
   "source": [
    "#Shows a monthly analysis for March 2020 to April 2021 (COVID-19 time period).\n",
    "plot1 = normalized_df.loc[(normalized_df['Year-Month DateTime'] >= '2020-03-01') & (normalized_df['Year-Month DateTime'] < '2021-05-01')]\n",
    "plt.plot(plot1['Year-Month Friendly'], plot1['Offenses Daily_y'], color='red', marker='o')\n",
    "plt.title('Average Seattle Crimes Committed per Day During COVID-19', fontsize=14)\n",
    "plt.ylabel('Average Crimes per Day', fontsize=14)\n",
    "plt.xticks(rotation=45)\n",
    "plt.grid(True)\n",
    "plt.show()"
   ]
  },
  {
   "cell_type": "markdown",
   "id": "beda2baa-6108-43bc-8774-0262d8e2781b",
   "metadata": {},
   "source": [
    "Since this analysis of COVID-19 overlaps some with Trump’s presidency, it makes it difficult to see the exact potential impact an event had on crime. However, analysis done in Excel (see how to export to Excel at the end of this code) shows that the average number of crimes per month for the year 2016-2019 was ~183, which is higher than the average number of crimes in the years 2008-2015 at an average of ~164 (so a ~12% increase), and the average number of crimes for the year 2020 was a record high ~195 (a ~19% increase). This means that the amount of crime increased during Trump's presidency and even more so during the pandemic (although, again, we're not sure what type of crime).\n",
    "\n",
    "Something that sticks out when looking at this graph is the large spike in crime in May 2020 (the month of George Floyd's death). Across the years 2008-2019, the average monthly crime count in May hovered at ~173, but for the year 2020, it rose to an incredibly high ~365 (a ~111% increase).\n",
    "\n",
    "But was this increase in crime actually a result of George Floyd's death? To help answer this, let's create a graph that now shows an in-depth weekly analysis for this time period."
   ]
  },
  {
   "cell_type": "code",
   "execution_count": null,
   "id": "d22314e4-42ff-4682-9eac-9a130542a40a",
   "metadata": {},
   "outputs": [],
   "source": [
    "#Shows a detailed weekly analysis for April-June 2020 (the time period surrounding George Floyd's death).\n",
    "unique_df['Date'] = unique_df['Offense Start DateTime'].dt.strftime(\"%Y-%m-%d\")\n",
    "daily_df = unique_df.groupby([unique_df['Date']]).agg({'Date':'count'}).rename(columns={'Date':'Offenses'}).reset_index()\n",
    "daily_df['Date DateTime'] = pd.to_datetime(daily_df['Date'], format='%Y-%m-%d')\n",
    "daily_df = daily_df.loc[(daily_df['Date DateTime'] >= '2020-04-07') & (daily_df['Date DateTime'] < '2020-07-01')]\n",
    "daily_df.set_index('Date DateTime')\n",
    "plt.plot(daily_df['Date'], daily_df['Offenses'], color='red', marker='o')\n",
    "plt.title('Average Daily Seattle Crimes Committed Around the Time of George Floyd\\'s Death', fontsize=14)\n",
    "plt.xticks(rotation=45)\n",
    "plt.xticks(np.arange(0,len(daily_df),7))\n",
    "plt.ylabel('Average Crimes per Day', fontsize=14)\n",
    "plt.grid(True)\n",
    "plt.subplots_adjust(bottom=0.22)\n",
    "plt.show()"
   ]
  },
  {
   "cell_type": "markdown",
   "id": "439d3ac4-3c8f-479d-bcd5-67a217b7b7ac",
   "metadata": {},
   "source": [
    "While the increase in crime initially appeared to be related to the death of George Floyd, a closer weekly analysis reveals something else: the large spike in crime actually happened in the weeks before his death (which was on May 25). Further analysis (that’s out of scope for this project) would have to be conducted to reveal any potential reasons for that increase.\n",
    "\n",
    "Now let's see if seasonality has an impact on the crime rate so we can decide if it's necessary to account for this in our analysis.\n",
    "\n",
    "To begin, I borrowed a function from someone who did a similar project [here](https://github.com/bstuddard/python-examples/blob/master/seasonal-decomp/python-logic/helpers.py)."
   ]
  },
  {
   "cell_type": "code",
   "execution_count": null,
   "id": "349ce940-5a6c-4a88-9c63-173979520d3c",
   "metadata": {},
   "outputs": [],
   "source": [
    "#Creates new columns for a seasonality index.\n",
    "def combine_seasonal_cols(input_df, seasonal_model_results):\n",
    "    #Adds these new columns to the original dataset.\n",
    "    input_df['observed'] = seasonal_model_results.observed\n",
    "    input_df['residual'] = seasonal_model_results.resid\n",
    "    input_df['seasonal'] = seasonal_model_results.seasonal\n",
    "    input_df['trend'] = seasonal_model_results.trend"
   ]
  },
  {
   "cell_type": "markdown",
   "id": "0761f9ad-511e-4af7-8d1f-9bbeff000ae3",
   "metadata": {},
   "source": [
    "Next, we'll calculate the seasonality and add it to our dataframe. "
   ]
  },
  {
   "cell_type": "code",
   "execution_count": null,
   "id": "142d55ab-c33d-4707-ac52-2680f19c3219",
   "metadata": {},
   "outputs": [],
   "source": [
    "#Looks at seasonality to identify any adjustments needed.\n",
    "season_df = filtered_df[['Year-Month DateTime', 'Offenses Daily']].copy()\n",
    "season_df.sort_values('Year-Month DateTime', inplace=True)\n",
    "season_df.set_index('Year-Month DateTime', inplace=True)\n",
    "season_sd = seasonal_decompose(season_df, period=12)\n",
    "combine_seasonal_cols(season_df, season_sd)\n",
    "\n",
    "#Adds this seasonality to the original filtered dataframe.\n",
    "normalized_df = pd.merge(filtered_df, season_df, on=\"Year-Month DateTime\")\n",
    "normalized_df['Normalized Daily'] = normalized_df['Offenses Daily_y'] - normalized_df['seasonal']\n",
    "\n",
    "#Drops unused columns and rebuilds Year-Month DateTime.\n",
    "normalized_df.drop(['Year-Month DateTime', 'Offenses Daily_x', 'observed', 'residual', 'trend'], axis=1)\n",
    "normalized_df['Year-Month DateTime'] = pd.to_datetime(normalized_df['Year-Month Sortable'], format='%Y-%m')\n",
    "normalized_df.set_index('Year-Month DateTime')"
   ]
  },
  {
   "cell_type": "markdown",
   "id": "001ece40-1beb-4048-be0b-1fbbd8b1bf07",
   "metadata": {},
   "source": [
    "Now we can create visualizations of this seasonality to determine if it has any impact on crime rate. We'll begin by taking a look at the seasonality for each month and creating a line graph for this. "
   ]
  },
  {
   "cell_type": "code",
   "execution_count": null,
   "id": "28c4ba34-c385-4c0d-b76a-006886e398ae",
   "metadata": {},
   "outputs": [],
   "source": [
    "#Shows seasonality adjustments per month when considering full date range.\n",
    "#Any year can be chosen as the seasonality index should be the same for each one.\n",
    "plot_seasonality = normalized_df.loc[(normalized_df['Year-Month DateTime'] >= '2019-01') & (normalized_df['Year-Month DateTime'] < '2020-01')]\n",
    "plt.plot(plot_seasonality['Month'], plot_seasonality2['seasonal'], color='red', marker='o')\n",
    "plt.title('Seasonality by Month (with May 2020)', fontsize=14)\n",
    "plt.ylabel('Seasonality Adjustment in Offenses per Day', fontsize=14)\n",
    "plt.grid(True)\n",
    "plt.show()"
   ]
  },
  {
   "cell_type": "markdown",
   "id": "3ac640bc-80a6-4778-b96c-55ccb16bfbf6",
   "metadata": {},
   "source": [
    "This visualization shows what the crime rate looks like over the years when seasonality is taken into account. The May month looks abnormal, which could be because of the unusually large amount of crime in May 2020, so let’s see what the seasonality looks like when we don’t take this month into account."
   ]
  },
  {
   "cell_type": "code",
   "execution_count": null,
   "id": "56b6b992-eb84-450c-9980-c5b9df45a95a",
   "metadata": {},
   "outputs": [],
   "source": [
    "#Recalculates seasonality adjustments per month without the outlier in May 2020.\n",
    "season_df2 = month_df.loc[(month_df['Year-Month DateTime'] >= '2008-01-01') & (month_df['Year-Month DateTime'] < '2020-04-01')] \n",
    "season_df2.set_index('Year-Month DateTime')\n",
    "season_df2 = season_df2[['Year-Month DateTime', 'Offenses Daily']]\n",
    "season_df2.sort_values('Year-Month DateTime', inplace=True)\n",
    "season_df2.set_index('Year-Month DateTime', inplace=True)\n",
    "season_sd2 = seasonal_decompose(season_df2, period=12)\n",
    "combine_seasonal_cols(season_df2, season_sd2)\n",
    "\n",
    "#Adds this seasonality to the original filtered dataframe.\n",
    "normalized_df2 = pd.merge(filtered_df, season_df2, on=\"Year-Month DateTime\")\n",
    "normalized_df2['Normalized Daily'] = normalized_df2['Offenses Daily_y'] - normalized_df2['seasonal']\n",
    "\n",
    "#Drops unused columns and rebuilds Year-Month DateTime.\n",
    "normalized_df2.drop(['Year-Month DateTime', 'Offenses Daily_x', 'observed', 'residual', 'trend'], axis=1)\n",
    "normalized_df2['Year-Month DateTime'] = pd.to_datetime(normalized_df2['Year-Month Sortable'], format='%Y-%m')\n",
    "normalized_df2.set_index('Year-Month DateTime')\n",
    "\n",
    "#Shows the crime rates with the monthly seasonality adjustments.\n",
    "plot_seasonality = normalized_df2.loc[(normalized_df2['Year-Month DateTime'] >= '2019-01') & (normalized_df2['Year-Month DateTime'] < '2020-01')]\n",
    "plt.plot(plot_seasonality['Month'], plot_seasonality['seasonal'], color='red', marker='o')\n",
    "plt.title('Seasonality by Month (no May 2020)', fontsize=14)\n",
    "plt.ylabel('Seasonality Adjustment in Offenses per Day', fontsize=14)\n",
    "plt.grid(True)\n",
    "plt.show()"
   ]
  },
  {
   "cell_type": "markdown",
   "id": "ce4661bc-2b66-480b-92d7-eea3e5c6a8f8",
   "metadata": {},
   "source": [
    "Now the only month that seems abnormal is February, but let’s see if that actually has a large impact. To do this, we can first create a line graph showing crime rate before seasonality is taken into account."
   ]
  },
  {
   "cell_type": "code",
   "execution_count": null,
   "id": "5dfbb75c-bd06-4024-ade0-328500c272b8",
   "metadata": {},
   "outputs": [],
   "source": [
    "#Plots all in-scope data without seasonality.\n",
    "plot5 = normalized_df.loc[(normalized_df['Year-Month DateTime'] >= '2008-01-01') & (normalized_df['Year-Month DateTime'] < '2021-05-01')]\n",
    "plt.plot(plot5['Year-Month Friendly'], plot5['Offenses Daily_y'], color='red', marker='o')\n",
    "plt.title('Average Seattle Crimes Committed per Day (no Seasonality)', fontsize=14)\n",
    "plt.xticks(np.arange(0,len(plot4),12))\n",
    "plt.xticks(rotation=45)\n",
    "plt.ylabel('Average Crimes per Day', fontsize=14)\n",
    "plt.grid(True)\n",
    "plt.show()"
   ]
  },
  {
   "cell_type": "markdown",
   "id": "1823d0c7-ebd2-4f07-a7ad-c36eaac8a0b6",
   "metadata": {},
   "source": [
    "Looks good! Now that we have this, let’s create a line graph that shows crime rate after seasonality is taken into account."
   ]
  },
  {
   "cell_type": "code",
   "execution_count": null,
   "id": "1e58a17d-cebd-453c-ab1f-cfb99805c8ba",
   "metadata": {},
   "outputs": [],
   "source": [
    "#Plots all in-scope data (with seasonality taken into account).\n",
    "plot4 = normalized_df.loc[(normalized_df['Year-Month DateTime'] >= '2008-01-01') & (normalized_df['Year-Month DateTime'] < '2021-05-01')]\n",
    "plt.plot(plot4['Year-Month Friendly'], plot4['Normalized Daily'], color='red', marker='o')\n",
    "plt.title('Average Seattle Crimes Committed per Day (with Seasonality)', fontsize=14)\n",
    "plt.xticks(np.arange(0,len(plot4),12))\n",
    "plt.xticks(rotation=45)\n",
    "plt.ylabel('Average Crimes per Day', fontsize=14)\n",
    "plt.grid(True)\n",
    "plt.show()"
   ]
  },
  {
   "cell_type": "markdown",
   "id": "2b897638-df3e-48c1-b8b7-cf9898dbebaf",
   "metadata": {},
   "source": [
    "By comparing these before and after graphs of seasonality, seasonality doesn’t appear to have a large impact on crime rate. This makes sense since the monthly crime rate in February only changed by about 10 crime reports, which is a small amount when compared to the 100+ crime reports that usually happen each month. For this reason, seasonality won’t be applied to my time period graphs and we’ll just leave them as we already have them to reduce complexity and potential bias from the May 2020 outlier."
   ]
  },
  {
   "cell_type": "markdown",
   "id": "602b8bf1-5941-4199-8c40-fe1462cdad90",
   "metadata": {},
   "source": [
    "### Discussion"
   ]
  },
  {
   "cell_type": "markdown",
   "id": "fc21456e-5ae5-4af2-ae99-6a36ce162e5b",
   "metadata": {},
   "source": [
    "The slight increase in crime rate during Trump’s presidency is an interesting finding, but since all types of crime were included in this analysis, it still leaves some questions unanswered. Was this mostly hate crime or something completely unrelated? My study provides the groundwork for further research on that topic. The type of crimes committed would also be good to know for understanding crime rate during the pandemic. Perhaps the majority of crime went down, but a couple specific types increased drastically and threw the rest of the numbers off. Additionally, there is a chance that this increase might not be significant since population would likely be increasing as well and this wasn’t taken into account for this analysis. Future research could include Seattle population data to answer this question. \n",
    "\n",
    "Most interestingly, a deeper dive into what exactly was happening during May 2020 should be done. My research indicates that something significant happened with crime during that time period, but whether this was because of George Floyd’s death or something else won’t be known until further research is conducted in this area.\n",
    "\n",
    "As briefly mentioned earlier, a major limitation of this project is that these major events overlapped with each other (as well as other smaller events that occurred too) and so it’s difficult to decide the exact impact that an event had on crime rate. Something else worth mentioning is that I only used data from crimes that were reported, so the data is biased towards individuals who report crime. Further expansions could include crime rates for cities outside of Seattle (particularly in less democratic places, the Minneapolis area, and places that were hit more/less hard by the pandemic)."
   ]
  },
  {
   "cell_type": "markdown",
   "id": "acdaeca4-3dd8-4772-a808-651de2b7085a",
   "metadata": {},
   "source": [
    "### Conclusion"
   ]
  },
  {
   "cell_type": "markdown",
   "id": "298f7f53-dd21-4a4a-8517-2333010cb5a7",
   "metadata": {},
   "source": [
    "This study found that major historical events do indeed have some kind of impact on the amount of crime in Seattle. Crime increased during the time of Trump’s presidency and even more so during the pandemic. In addition, a large spike in crime happened right before the death of George Floyd. However, the exact causes of this crime increase have yet to be determined. Interestingly, Seattle crime does not seem to vary much by season, which brings an interesting take to the discussion of if more crimes happen in the summer than the winter."
   ]
  }
 ],
 "metadata": {
  "kernelspec": {
   "display_name": "Python 3",
   "language": "python",
   "name": "python3"
  },
  "language_info": {
   "codemirror_mode": {
    "name": "ipython",
    "version": 3
   },
   "file_extension": ".py",
   "mimetype": "text/x-python",
   "name": "python",
   "nbconvert_exporter": "python",
   "pygments_lexer": "ipython3",
   "version": "3.8.8"
  }
 },
 "nbformat": 4,
 "nbformat_minor": 5
}
