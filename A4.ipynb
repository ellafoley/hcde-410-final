{
 "cells": [
  {
   "cell_type": "markdown",
   "id": "9b7f5b4b-45d4-45cf-85d7-d012e066d1d0",
   "metadata": {},
   "source": [
    "### Motivation"
   ]
  },
  {
   "cell_type": "markdown",
   "id": "948eb117-2ab1-4110-936d-949499f736a9",
   "metadata": {},
   "source": [
    "#### Why are you planning to do this analysis? "
   ]
  },
  {
   "cell_type": "markdown",
   "id": "96686cbd-1c77-42de-989d-fcd80319c0d5",
   "metadata": {},
   "source": [
    "I'm planning to do this analysis because I’m curious to see if there’s an increase/decrease (or no change) and in what types of crime based on large events that happen."
   ]
  },
  {
   "cell_type": "markdown",
   "id": "eefab0f8-79a6-483c-9d8b-c8f7ac6a668b",
   "metadata": {},
   "source": [
    "#### Why is it potentially interesting and useful, from a scientific, practical, and/or human-centered perspective? "
   ]
  },
  {
   "cell_type": "markdown",
   "id": "fa6dda66-860d-4a1b-b9f3-deee96c921de",
   "metadata": {},
   "source": [
    "It would be interesting to see if there’s any unexpected crime statistics correlating with historical events. This could be useful to know so that if similar events happen again in the future (i.e. “history repeating itself”), we can know what we can expect to see for crime and thus hopefully prevent it better. "
   ]
  },
  {
   "cell_type": "markdown",
   "id": "5798ab37-2df9-408a-a549-62e6b49192d4",
   "metadata": {},
   "source": [
    "#### What do you hope to learn? "
   ]
  },
  {
   "cell_type": "markdown",
   "id": "c68d36c5-d177-44fb-aa09-f23393117107",
   "metadata": {},
   "source": [
    "I hope to learn about the impact that historical events have on crime rates and the type of crimes committed, specifically in the Seattle area. I’m currently planning to look at events like presidential elections, COVID, and George Floyd’s death, but this may change some. It might be interesting to see where these crimes tend to happen too."
   ]
  },
  {
   "cell_type": "markdown",
   "id": "0ab641ff-1564-49fd-91c3-0e4102ff2c9a",
   "metadata": {},
   "source": [
    "### Data"
   ]
  },
  {
   "cell_type": "markdown",
   "id": "3adf0abc-aecf-410a-bb41-2d8e01e9bb6a",
   "metadata": {},
   "source": [
    "#### Summarize what is represented in the dataset"
   ]
  },
  {
   "cell_type": "markdown",
   "id": "ee24bb78-ff29-4816-88ff-d329bd4c2d60",
   "metadata": {},
   "source": [
    "This dataset contains information on finalized reported crimes in Seattle from 2008-2021 (and is updated daily). It includes columns such as the offense start and end time, report date, type of crime, and location of the crime."
   ]
  },
  {
   "cell_type": "markdown",
   "id": "d7045317-643d-4063-8b5f-f081a4f982d4",
   "metadata": {},
   "source": [
    "#### Link to the dataset (it must be publicly available)"
   ]
  },
  {
   "cell_type": "markdown",
   "id": "b22f6a63-cfa7-4716-8ddc-6d03ef2e83c3",
   "metadata": {},
   "source": [
    "This is the link to the dataset: https://data.seattle.gov/Public-Safety/SPD-Crime-Data-2008-Present/tazs-3rd5."
   ]
  },
  {
   "cell_type": "markdown",
   "id": "cd0ed73c-dbf4-4bdb-9fbc-91f51538d367",
   "metadata": {},
   "source": [
    "#### Specify license and/or terms of use for the data"
   ]
  },
  {
   "cell_type": "markdown",
   "id": "3886168d-6fd3-4356-8617-830efad45ddd",
   "metadata": {},
   "source": [
    "This dataset is under a Public Domain license."
   ]
  },
  {
   "cell_type": "markdown",
   "id": "b886e7ae-9c0a-4b45-a54c-d056fe7ebe1e",
   "metadata": {},
   "source": [
    "#### Explain why this dataset is a suitable one for addressing your research goal listed above"
   ]
  },
  {
   "cell_type": "markdown",
   "id": "667e31de-d1fd-46b9-b069-2ffb6d08b925",
   "metadata": {},
   "source": [
    "I’m particularly interested in crime in Seattle since I’ve lived around this area my whole life and will be moving there this Fall. Additionally, this is a large dataset (with about 900k rows) that comes from the Seattle Police Department, meaning that my analysis will be more likely to be accurate."
   ]
  },
  {
   "cell_type": "markdown",
   "id": "487af91b-3190-4e07-a4b6-3a219193a1c4",
   "metadata": {},
   "source": [
    "#### Highlight any possible ethical considerations to using this dataset"
   ]
  },
  {
   "cell_type": "markdown",
   "id": "ed8af4c8-d2b3-408d-91a0-f4ecf87d428f",
   "metadata": {},
   "source": [
    "Something to keep in mind when using this dataset and doing this type of analysis is where the data comes from. Only finalized reports are included, so crimes that don’t make it through the police department would be absent and unaccounted for. In addition, many people (particularly people of color) do not trust the police and may not make police reports, even after a crime has occurred. For this reason, the data will have bias to it and will not be a completely accurate representation of crime in Seattle. If people don’t acknowledge this, it could lead to poor decisions based on this data, such as only benefiting those who made police reports. It’s also worth noting that a lot of information is included in this dataset, so it would likely not be too difficult for someone to figure out who was involved in the crimes."
   ]
  },
  {
   "cell_type": "markdown",
   "id": "ab315095-9e6d-4887-af83-2b109175feeb",
   "metadata": {},
   "source": [
    "### Unknowns"
   ]
  },
  {
   "cell_type": "markdown",
   "id": "1fbb31ea-1450-4bbd-8d8e-28c08c643f2e",
   "metadata": {},
   "source": [
    "#### Are there any factors outside of your control that might impact your ability to complete this project by the end of the quarter? "
   ]
  },
  {
   "cell_type": "markdown",
   "id": "cc3ff311-921d-483d-a2b2-8a87ab910123",
   "metadata": {},
   "source": [
    "I’ll be getting my second dose of the vaccine in a couple weeks, which may push back some of my work. I’m also not very comfortable with Python and haven’t used it for statistical analysis before, so I expect to run into a lot of problems related to that."
   ]
  },
  {
   "cell_type": "markdown",
   "id": "014765ed-f631-4906-9391-a0796a25a051",
   "metadata": {},
   "source": [
    "### Next"
   ]
  },
  {
   "cell_type": "code",
   "execution_count": null,
   "id": "ae30072d-3d2b-43d6-a0b9-48d6ad2bc191",
   "metadata": {},
   "outputs": [],
   "source": []
  }
 ],
 "metadata": {
  "kernelspec": {
   "display_name": "Python 3",
   "language": "python",
   "name": "python3"
  },
  "language_info": {
   "codemirror_mode": {
    "name": "ipython",
    "version": 3
   },
   "file_extension": ".py",
   "mimetype": "text/x-python",
   "name": "python",
   "nbconvert_exporter": "python",
   "pygments_lexer": "ipython3",
   "version": "3.8.8"
  }
 },
 "nbformat": 4,
 "nbformat_minor": 5
}
